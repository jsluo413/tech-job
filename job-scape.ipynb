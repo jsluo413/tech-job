{
 "cells": [
  {
   "cell_type": "code",
   "execution_count": 25,
   "metadata": {},
   "outputs": [],
   "source": [
    "from google_api import filter_links, search_jobs"
   ]
  },
  {
   "cell_type": "code",
   "execution_count": null,
   "metadata": {},
   "outputs": [],
   "source": [
    "site=\"https://jobs.apple.com/en-us/details/\"\n",
    "query=\"software engineer\"\n",
    "\n",
    "job_listings  = search_jobs(query, site, num_results=10, day=1)\n",
    "\n",
    "grad_job_listings = filter_links(job_listings)"
   ]
  },
  {
   "cell_type": "code",
   "execution_count": 27,
   "metadata": {},
   "outputs": [
    {
     "data": {
      "text/plain": [
       "[{'title': 'Senior Software Engineer - Elixir (Environmental Systems) - Careers ...',\n",
       "  'link': 'https://jobs.apple.com/en-us/details/200562288/senior-software-engineer-elixir-environmental-systems',\n",
       "  'snippet': \"8 hours ago ... Apply for a Senior Software Engineer - Elixir (Environmental Systems) job at Apple. Read about the role and find out if it's right for you.\"},\n",
       " {'title': 'Fullstack Engineer - Careers at Apple',\n",
       "  'link': 'https://jobs.apple.com/en-us/details/200555505/fullstack-engineer',\n",
       "  'snippet': '7 hours ago ... Apple Sports is seeking a talented and motivated Full Stack Software Engineer to join our dynamic team. As an engineer at Apple Sports, you will play a\\xa0...'}]"
      ]
     },
     "execution_count": 27,
     "metadata": {},
     "output_type": "execute_result"
    }
   ],
   "source": [
    "grad_job_listings"
   ]
  }
 ],
 "metadata": {
  "kernelspec": {
   "display_name": "scape-api",
   "language": "python",
   "name": "python3"
  },
  "language_info": {
   "codemirror_mode": {
    "name": "ipython",
    "version": 3
   },
   "file_extension": ".py",
   "mimetype": "text/x-python",
   "name": "python",
   "nbconvert_exporter": "python",
   "pygments_lexer": "ipython3",
   "version": "3.9.19"
  }
 },
 "nbformat": 4,
 "nbformat_minor": 2
}
